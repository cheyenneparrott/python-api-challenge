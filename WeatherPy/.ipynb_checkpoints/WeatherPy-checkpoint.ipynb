{
 "cells": [
  {
   "cell_type": "markdown",
   "metadata": {},
   "source": [
    "# WeatherPy\n",
    "----\n",
    "\n",
    "#### Note\n",
    "* Instructions have been included for each segment. You do not have to follow them exactly, but they are included to help you think through the steps."
   ]
  },
  {
   "cell_type": "code",
   "execution_count": 2,
   "metadata": {
    "scrolled": true
   },
   "outputs": [],
   "source": [
    "# Dependencies and Setup\n",
    "import matplotlib.pyplot as plt\n",
    "import pandas as pd\n",
    "import numpy as np\n",
    "import requests\n",
    "import time\n",
    "from scipy.stats import linregress\n",
    "\n",
    "# OpenWeatherMap API Key\n",
    "api_key = \"68e5bb3ba8ad9aae2e97ddfaa81ed940\"\n",
    "\n",
    "# Incorporated citipy to determine city based on latitude and longitude\n",
    "from citipy import citipy\n",
    "\n",
    "# Output File (CSV)\n",
    "output_data_file = \"output_data/cities.csv\"\n",
    "\n",
    "# Range of latitudes and longitudes\n",
    "lat_range = (-90, 90)\n",
    "lng_range = (-180, 180)"
   ]
  },
  {
   "cell_type": "markdown",
   "metadata": {},
   "source": [
    "## Generate Cities List"
   ]
  },
  {
   "cell_type": "code",
   "execution_count": 3,
   "metadata": {},
   "outputs": [
    {
     "data": {
      "text/plain": [
       "608"
      ]
     },
     "execution_count": 3,
     "metadata": {},
     "output_type": "execute_result"
    }
   ],
   "source": [
    " # List for holding lat_lngs and cities\n",
    "lat_lngs = []\n",
    "cities = []\n",
    "\n",
    "# Create a set of random lat and lng combinations\n",
    "lats = np.random.uniform(low=-90.000, high=90.000, size=1500)\n",
    "lngs = np.random.uniform(low=-180.000, high=180.000, size=1500)\n",
    "lat_lngs = zip(lats, lngs)\n",
    "\n",
    "# Identify nearest city for each lat, lng combination\n",
    "for lat_lng in lat_lngs:\n",
    "    city = citipy.nearest_city(lat_lng[0], lat_lng[1]).city_name\n",
    "    \n",
    "    # If the city is unique, then add it to a our cities list\n",
    "    if city not in cities:\n",
    "        cities.append(city)\n",
    "\n",
    "# Print the city count to confirm sufficient count\n",
    "len(cities)"
   ]
  },
  {
   "cell_type": "markdown",
   "metadata": {},
   "source": [
    "### Perform API Calls\n",
    "* Perform a weather check on each city using a series of successive API calls.\n",
    "* Include a print log of each city as it'sbeing processed (with the city number and city name).\n"
   ]
  },
  {
   "cell_type": "code",
   "execution_count": 4,
   "metadata": {},
   "outputs": [
    {
     "data": {
      "text/plain": [
       "'https://api.openweathermap.org/data/2.5/weather?appid=68e5bb3ba8ad9aae2e97ddfaa81ed940&units=imperial&q='"
      ]
     },
     "execution_count": 4,
     "metadata": {},
     "output_type": "execute_result"
    }
   ],
   "source": [
    "# Add base URL\n",
    "url = \"https://api.openweathermap.org/data/2.5/weather?\"\n",
    "\n",
    "city = 'london'\n",
    "units = 'imperial'\n",
    "api_key = '68e5bb3ba8ad9aae2e97ddfaa81ed940'\n",
    "final_url = f\"{url}appid={api_key}&units={units}&q=\"\n",
    "final_url\n"
   ]
  },
  {
   "cell_type": "code",
   "execution_count": 5,
   "metadata": {
    "scrolled": true
   },
   "outputs": [
    {
     "data": {
      "text/plain": [
       "{'coord': {'lon': -0.13, 'lat': 51.51},\n",
       " 'weather': [{'id': 804,\n",
       "   'main': 'Clouds',\n",
       "   'description': 'overcast clouds',\n",
       "   'icon': '04n'}],\n",
       " 'base': 'stations',\n",
       " 'main': {'temp': 52.83,\n",
       "  'feels_like': 51.55,\n",
       "  'temp_min': 51.01,\n",
       "  'temp_max': 55,\n",
       "  'pressure': 1021,\n",
       "  'humidity': 81},\n",
       " 'visibility': 10000,\n",
       " 'wind': {'speed': 1.12, 'deg': 0},\n",
       " 'clouds': {'all': 100},\n",
       " 'dt': 1598847274,\n",
       " 'sys': {'type': 1,\n",
       "  'id': 1414,\n",
       "  'country': 'GB',\n",
       "  'sunrise': 1598850735,\n",
       "  'sunset': 1598899780},\n",
       " 'timezone': 3600,\n",
       " 'id': 2643743,\n",
       " 'name': 'London',\n",
       " 'cod': 200}"
      ]
     },
     "execution_count": 5,
     "metadata": {},
     "output_type": "execute_result"
    }
   ],
   "source": [
    "response = requests.get(final_url + city)\n",
    "weather_json = response.json()\n",
    "weather_json"
   ]
  },
  {
   "cell_type": "code",
   "execution_count": 6,
   "metadata": {},
   "outputs": [
    {
     "name": "stdout",
     "output_type": "stream",
     "text": [
      "1 The weather in the city of Barrow is city id 5880054\n",
      "2 The weather in the city of Ushuaia is city id 3833367\n",
      "3 The weather in the city of Lagoa is city id 3372964\n",
      "4 The weather in the city of Roebourne is city id 2062276\n",
      "5 The weather in the city of Bathsheba is city id 3374083\n",
      "6 The weather in the city of Zyryanka is city id 2119283\n",
      "7 The weather in the city of Ahipara is city id 2194098\n",
      "8 The weather in the city of Bluff is city id 2206939\n",
      "9 The weather in the city of Saint-Philippe is city id 935215\n",
      " Weather for the city of illoqqortoormiut is not found\n",
      "10 The weather in the city of Hong Kong is city id 1819729\n",
      "11 The weather in the city of Hobart is city id 2163355\n",
      "12 The weather in the city of Nelson Bay is city id 2155562\n",
      "13 The weather in the city of Cape Town is city id 3369157\n",
      "14 The weather in the city of Mataura is city id 6201424\n",
      "15 The weather in the city of Albany is city id 5106841\n",
      " Weather for the city of sentyabrskiy is not found\n",
      "16 The weather in the city of Baoying is city id 1816890\n",
      "17 The weather in the city of Upernavik is city id 3418910\n",
      "18 The weather in the city of Port Macquarie is city id 2152659\n",
      "19 The weather in the city of Māngrol is city id 1263752\n",
      "20 The weather in the city of Tuktoyaktuk is city id 6170031\n",
      "21 The weather in the city of Talnakh is city id 1490256\n",
      "22 The weather in the city of Kapaa is city id 5848280\n",
      "23 The weather in the city of Jamestown is city id 5122534\n",
      "24 The weather in the city of Bambous Virieux is city id 1106677\n",
      "25 The weather in the city of Birin is city id 1283334\n",
      "26 The weather in the city of Nhulunbuy is city id 2064735\n",
      "27 The weather in the city of Vaini is city id 4032243\n",
      "28 The weather in the city of Kalmanka is city id 1504985\n",
      "29 The weather in the city of Fairbanks is city id 5861897\n",
      "30 The weather in the city of Fort Nelson is city id 5955902\n",
      "31 The weather in the city of La Orilla is city id 4001056\n",
      "32 The weather in the city of Punta Arenas is city id 3874787\n",
      "33 The weather in the city of Newport is city id 2641598\n",
      "34 The weather in the city of Isangel is city id 2136825\n",
      "35 The weather in the city of Lüderitz is city id 3355672\n",
      "36 The weather in the city of Aykhal is city id 2027296\n",
      "37 The weather in the city of Alice Springs is city id 2077895\n",
      "38 The weather in the city of Mar del Plata is city id 3430863\n",
      "39 The weather in the city of Stavern is city id 3137091\n",
      "40 The weather in the city of Hīt is city id 95788\n",
      " Weather for the city of taolanaro is not found\n",
      "41 The weather in the city of Shelburne is city id 6145890\n",
      "42 The weather in the city of Nouadhibou is city id 2377457\n",
      "43 The weather in the city of Busselton is city id 2075265\n",
      "44 The weather in the city of Ixtapa is city id 4004293\n",
      "45 The weather in the city of Port Blair is city id 1259385\n",
      "46 The weather in the city of Berlevåg is city id 780687\n",
      "47 The weather in the city of Hilo is city id 5855927\n",
      "48 The weather in the city of Southbridge is city id 4951594\n",
      " Weather for the city of vaitupu is not found\n",
      "49 The weather in the city of Vila Velha is city id 3445026\n",
      "50 The weather in the city of Khovd is city id 1516048\n",
      "51 The weather in the city of Port Alfred is city id 964432\n",
      "52 The weather in the city of Namatanai is city id 2090021\n",
      " Weather for the city of attawapiskat is not found\n",
      "53 The weather in the city of Yangi Marg`ilon is city id 1513491\n",
      "54 The weather in the city of San Alberto is city id 3670242\n",
      "55 The weather in the city of Atasū is city id 1526041\n",
      "56 The weather in the city of Ngaoundéré is city id 2224827\n",
      "57 The weather in the city of Campoverde is city id 3733380\n",
      "58 The weather in the city of Saskylakh is city id 2017155\n",
      "59 The weather in the city of Hervey Bay is city id 2146219\n",
      "60 The weather in the city of Port-Gentil is city id 2396518\n",
      "61 The weather in the city of Saint Paul Harbor is city id 5866583\n",
      "62 The weather in the city of Naze is city id 1855540\n",
      "63 The weather in the city of Bredasdorp is city id 1015776\n",
      "64 The weather in the city of Saldanha is city id 3361934\n",
      " Weather for the city of mocambique is not found\n",
      "65 The weather in the city of Thompson is city id 6165406\n",
      " Weather for the city of aporawan is not found\n",
      "66 The weather in the city of Hithadhoo is city id 1282256\n",
      " Weather for the city of utiroa is not found\n",
      "67 The weather in the city of George Town is city id 1735106\n",
      "68 The weather in the city of Narsaq is city id 3421719\n",
      " Weather for the city of barentsburg is not found\n",
      "69 The weather in the city of Departamento de Maldonado is city id 3441890\n",
      "70 The weather in the city of Muskegon is city id 5003136\n",
      "71 The weather in the city of Constitución is city id 3893726\n",
      " Weather for the city of jabiru is not found\n",
      "72 The weather in the city of Qaanaaq is city id 3831208\n",
      "73 The weather in the city of Severo-Kuril'sk is city id 2121385\n",
      "74 The weather in the city of Mayor Pablo Lagerenza is city id 3867427\n",
      "75 The weather in the city of Touros is city id 3386213\n",
      "76 The weather in the city of Esperance is city id 2071860\n",
      "77 The weather in the city of Tasiilaq is city id 3424607\n",
      "78 The weather in the city of Laguna is city id 5364271\n",
      "79 The weather in the city of Nanortalik is city id 3421765\n",
      "80 The weather in the city of Perth is city id 2063523\n",
      "81 The weather in the city of Atuona is city id 4020109\n",
      " Weather for the city of tumannyy is not found\n",
      "82 The weather in the city of Byron Bay is city id 2172880\n",
      "83 The weather in the city of Yurimaguas is city id 3690654\n",
      "84 The weather in the city of Labuhan is city id 8079926\n",
      "85 The weather in the city of Nikolskoye is city id 546105\n",
      "86 The weather in the city of Uralets is city id 478849\n",
      "87 The weather in the city of Jega is city id 2336237\n",
      "88 The weather in the city of Blythe is city id 5329649\n",
      "89 The weather in the city of Lavrentiya is city id 4031637\n",
      "90 The weather in the city of Mount Gambier is city id 2156643\n",
      "91 The weather in the city of Chany is city id 1508458\n",
      "92 The weather in the city of Naraini is city id 1261871\n",
      "93 The weather in the city of Bethel is city id 5282297\n",
      "94 The weather in the city of Yinchuan is city id 1786657\n",
      "95 The weather in the city of Yulara is city id 6355222\n",
      "96 The weather in the city of Kismayo is city id 55671\n",
      "97 The weather in the city of Butaritari is city id 2110227\n",
      "98 The weather in the city of Fallon is city id 5503914\n",
      "99 The weather in the city of Opunake is city id 2206357\n",
      "100 The weather in the city of Karaton is city id 1630058\n",
      "101 The weather in the city of Kédougou is city id 2250645\n",
      " Weather for the city of nizhneyansk is not found\n",
      "102 The weather in the city of Kupino is city id 1501365\n",
      "103 The weather in the city of Castro is city id 3466704\n",
      "104 The weather in the city of Nizhnekamsk is city id 521118\n",
      "105 The weather in the city of Xining is city id 1788852\n",
      "106 The weather in the city of Pemangkat is city id 1631637\n",
      "107 The weather in the city of Misratah is city id 2214846\n",
      "108 The weather in the city of Pangody is city id 1495626\n",
      "109 The weather in the city of Mahébourg is city id 934322\n",
      "110 The weather in the city of Takoradze is city id 2294915\n",
      "111 The weather in the city of Rundu is city id 3353383\n",
      "112 The weather in the city of Hermanus is city id 3366880\n",
      "113 The weather in the city of Evensk is city id 2125693\n",
      "114 The weather in the city of Nālūt is city id 2214432\n",
      "115 The weather in the city of Tomohon is city id 1623446\n",
      "116 The weather in the city of Avera is city id 4231997\n",
      "117 The weather in the city of Ayacucho is city id 3947019\n",
      "118 The weather in the city of Malanje is city id 2239862\n",
      "119 The weather in the city of Menongue is city id 3347353\n",
      "120 The weather in the city of Iqaluit is city id 5983720\n",
      "121 The weather in the city of Kaitangata is city id 2208248\n",
      "122 The weather in the city of Yellowknife is city id 6185377\n",
      "123 The weather in the city of Bajos de Haina is city id 3512128\n",
      "124 The weather in the city of Sorong is city id 1626542\n",
      "125 The weather in the city of Cidreira is city id 3466165\n",
      "126 The weather in the city of Dunedin is city id 2191562\n",
      "127 The weather in the city of San Patricio is city id 3985168\n",
      "128 The weather in the city of Barrancas is city id 3689162\n",
      "129 The weather in the city of Province of Trapani is city id 2522875\n",
      "130 The weather in the city of Port Elizabeth is city id 964420\n"
     ]
    },
    {
     "name": "stdout",
     "output_type": "stream",
     "text": [
      "131 The weather in the city of Sitka is city id 5557293\n",
      "132 The weather in the city of Rikitea is city id 4030556\n",
      "133 The weather in the city of Baykit is city id 1510689\n",
      "134 The weather in the city of Linxia Chengguanzhen is city id 1803331\n",
      "135 The weather in the city of Siderno is city id 6540819\n",
      "136 The weather in the city of Yaan is city id 2338660\n",
      "137 The weather in the city of Creston is city id 4853078\n",
      "138 The weather in the city of Chimbote is city id 3698304\n",
      "139 The weather in the city of New Norfolk is city id 2155415\n",
      "140 The weather in the city of Puerto Ayora is city id 3652764\n",
      "141 The weather in the city of Mount Isa is city id 2065594\n",
      "142 The weather in the city of Faanui is city id 4034551\n",
      "143 The weather in the city of Kosa is city id 544318\n",
      "144 The weather in the city of Djibo is city id 2361177\n",
      "145 The weather in the city of Santa Catarina da Serra is city id 2263547\n",
      "146 The weather in the city of Chumikan is city id 2025256\n",
      "147 The weather in the city of Pombas is city id 3374351\n",
      "148 The weather in the city of Dingle is city id 1714733\n",
      "149 The weather in the city of Nagato is city id 1899102\n",
      "150 The weather in the city of Rio Grande is city id 3451138\n",
      "151 The weather in the city of Huai Yot is city id 1153241\n",
      "152 The weather in the city of Ayan is city id 2027316\n",
      "153 The weather in the city of Ribeira Grande is city id 3372707\n",
      "154 The weather in the city of Avarua is city id 4035715\n",
      "155 The weather in the city of Karpathos is city id 260895\n",
      "156 The weather in the city of Sobolevo is city id 525426\n",
      "157 The weather in the city of Ust-Nera is city id 2120048\n",
      "158 The weather in the city of Vīsāvadar is city id 1253105\n",
      "159 The weather in the city of Moerai is city id 4034188\n",
      "160 The weather in the city of Riyadh is city id 108410\n",
      "161 The weather in the city of Chokurdakh is city id 2126123\n",
      "162 The weather in the city of Rochester is city id 5134086\n",
      "163 The weather in the city of Santa Isabel Rio Negro is city id 3662489\n",
      "164 The weather in the city of Urussanga is city id 3445667\n",
      "165 The weather in the city of Khanbari is city id 1283217\n",
      "166 The weather in the city of Hambantota is city id 1244926\n",
      " Weather for the city of artyk is not found\n",
      "167 The weather in the city of Moa is city id 3546791\n",
      "168 The weather in the city of East London is city id 1006984\n",
      "169 The weather in the city of Gimbi is city id 336496\n",
      "170 The weather in the city of Caçador is city id 3468570\n",
      "171 The weather in the city of Mossamedes is city id 3347019\n",
      "172 The weather in the city of Doumé is city id 2232497\n",
      "173 The weather in the city of Bilma is city id 2446796\n",
      "174 The weather in the city of Entre Rios is city id 3464100\n",
      "175 The weather in the city of Bengkulu is city id 1649150\n",
      "176 The weather in the city of Tiksi is city id 2015306\n",
      "177 The weather in the city of Exeter is city id 2649808\n",
      "178 The weather in the city of Sola is city id 2134814\n",
      "179 The weather in the city of Sørland is city id 3137469\n",
      "180 The weather in the city of Kununurra is city id 2068110\n",
      "181 The weather in the city of Pochutla is city id 3517970\n",
      "182 The weather in the city of Buala is city id 2109528\n",
      "183 The weather in the city of Airai is city id 1651810\n",
      "184 The weather in the city of Cuamba is city id 1047660\n",
      "185 The weather in the city of Ostrovnoy is city id 556268\n",
      "186 The weather in the city of Dwārka is city id 1272140\n",
      "187 The weather in the city of Ust-Tsilma is city id 477940\n",
      "188 The weather in the city of Maun is city id 933366\n",
      "189 The weather in the city of Leningradskiy is city id 2123814\n",
      "190 The weather in the city of Doha is city id 290030\n",
      "191 The weather in the city of Denpasar is city id 1645528\n",
      "192 The weather in the city of Souillac is city id 933995\n",
      "193 The weather in the city of Quatre Cocos is city id 1106643\n",
      "194 The weather in the city of Jogbani is city id 1268855\n",
      "195 The weather in the city of Chui is city id 3443061\n",
      "196 The weather in the city of Valparaíso is city id 3868626\n",
      "197 The weather in the city of Egvekinot is city id 4031742\n",
      "198 The weather in the city of Passagem Franca is city id 3392942\n",
      "199 The weather in the city of Bad Krozingen is city id 6555730\n",
      "200 The weather in the city of Dzilam González is city id 3529654\n",
      "201 The weather in the city of Russell is city id 4047434\n",
      "202 The weather in the city of Zheleznodorozhnyy is city id 463355\n",
      "203 The weather in the city of Viedma is city id 3832899\n",
      "204 The weather in the city of Salekhard is city id 1493197\n",
      "205 The weather in the city of Husavik is city id 2629833\n",
      " Weather for the city of belushya guba is not found\n",
      "206 The weather in the city of Shache is city id 1280037\n",
      "207 The weather in the city of Nampula is city id 1033356\n",
      "208 The weather in the city of Uruguaiana is city id 3445679\n",
      "209 The weather in the city of Coyhaique is city id 3894426\n",
      "210 The weather in the city of La Ronge is city id 6050066\n",
      "211 The weather in the city of Paragominas is city id 3393106\n",
      "212 The weather in the city of Clyde River is city id 5924351\n",
      "213 The weather in the city of San Quintín is city id 3984997\n",
      "214 The weather in the city of Kadapa is city id 1273800\n",
      "215 The weather in the city of Arlit is city id 2447513\n",
      "216 The weather in the city of Amahai is city id 1651591\n",
      "217 The weather in the city of Vilyuysk is city id 2013392\n",
      "218 The weather in the city of Thinadhoo is city id 1337610\n",
      "219 The weather in the city of Caravelas is city id 3466980\n",
      "220 The weather in the city of Bambanglipuro is city id 1650434\n",
      "221 The weather in the city of Paso de Carrasco is city id 3441292\n",
      "222 The weather in the city of Coquimbo is city id 3893629\n",
      "223 The weather in the city of Sinnamary is city id 3380290\n",
      "224 The weather in the city of Hamilton is city id 4513583\n",
      "225 The weather in the city of Marsá Maţrūḩ is city id 352733\n",
      "226 The weather in the city of Manitouwadge is city id 6065253\n",
      "227 The weather in the city of Norman Wells is city id 6089245\n",
      "228 The weather in the city of Makakilo City is city id 5850554\n",
      "229 The weather in the city of Sambava is city id 1056899\n",
      "230 The weather in the city of Viseu is city id 2732265\n",
      "231 The weather in the city of Brae is city id 2654970\n",
      "232 The weather in the city of Hofn is city id 2630299\n",
      "233 The weather in the city of Aktau is city id 610612\n",
      " Weather for the city of vreed en hoop is not found\n",
      "234 The weather in the city of Cayenne is city id 3382160\n",
      "235 The weather in the city of Polovinnoye is city id 1494523\n",
      "236 The weather in the city of Kahului is city id 5847411\n",
      "237 The weather in the city of Broken Hill is city id 2173911\n",
      "238 The weather in the city of Torbay is city id 6167817\n",
      "239 The weather in the city of São Filipe is city id 3374210\n",
      "240 The weather in the city of Zhanakorgan is city id 1517323\n",
      "241 The weather in the city of Northam is city id 2641434\n",
      "242 The weather in the city of Katsuura is city id 2112309\n",
      "243 The weather in the city of Conakry is city id 2422465\n",
      "244 The weather in the city of Geraldton is city id 2070998\n",
      "245 The weather in the city of Roald is city id 3141667\n",
      "246 The weather in the city of Kavieng is city id 2094342\n",
      "247 The weather in the city of Pevek is city id 2122090\n",
      "248 The weather in the city of Lufilufi is city id 4035249\n",
      "249 The weather in the city of Codrington is city id 2171099\n",
      "250 The weather in the city of North Bend is city id 5742974\n",
      "251 The weather in the city of Puerto Escondido is city id 3520994\n",
      "252 The weather in the city of Ponta do Sol is city id 2264557\n",
      " Weather for the city of burica is not found\n",
      "253 The weather in the city of Vardø is city id 777019\n",
      "254 The weather in the city of Ulaangom is city id 1515029\n",
      "255 The weather in the city of Salalah is city id 286621\n",
      " Weather for the city of makung is not found\n",
      "256 The weather in the city of Bintulu is city id 1737486\n",
      "257 The weather in the city of Lebu is city id 3883457\n",
      "258 The weather in the city of Aklavik is city id 5882953\n",
      "259 The weather in the city of Kapuskasing is city id 5989403\n",
      "260 The weather in the city of Dunda is city id 160141\n",
      "261 The weather in the city of Cherskiy is city id 2126199\n",
      "262 The weather in the city of ‘Āhuimanu is city id 5856516\n",
      "263 The weather in the city of Al Bardīyah is city id 80509\n",
      "264 The weather in the city of Aseri is city id 592379\n",
      "265 The weather in the city of Muroto-misakicho is city id 1856392\n"
     ]
    },
    {
     "name": "stdout",
     "output_type": "stream",
     "text": [
      "266 The weather in the city of Tarko-Sale is city id 1490085\n",
      "267 The weather in the city of Uíge is city id 2236568\n",
      "268 The weather in the city of Port Lincoln is city id 2063036\n",
      "269 The weather in the city of Ust'-Koksa is city id 1488167\n",
      "270 The weather in the city of Kyra is city id 2021041\n",
      "271 The weather in the city of Vao is city id 2137773\n",
      "272 The weather in the city of Batote is city id 1258715\n",
      " Weather for the city of gangotri is not found\n",
      "273 The weather in the city of Halesowen is city id 2647639\n",
      "274 The weather in the city of Fethiye is city id 314967\n",
      "275 The weather in the city of Pandan is city id 1695546\n",
      "276 The weather in the city of Taoudenni is city id 2450173\n",
      " Weather for the city of grimari is not found\n",
      " Weather for the city of tabialan is not found\n",
      "277 The weather in the city of Labuan is city id 1733782\n",
      "278 The weather in the city of Arraial do Cabo is city id 3471451\n",
      "279 The weather in the city of Klaksvík is city id 2618795\n",
      "280 The weather in the city of Ugoofaaru is city id 1337619\n",
      "281 The weather in the city of Phalaborwa is city id 965528\n",
      "282 The weather in the city of Bagpat is city id 1277882\n",
      "283 The weather in the city of Erzin is city id 296852\n",
      "284 The weather in the city of Iquitos is city id 3696183\n",
      "285 The weather in the city of Panna is city id 1260454\n",
      "286 The weather in the city of Deniliquin is city id 2169068\n",
      "287 The weather in the city of Acarí is city id 3948613\n",
      " Weather for the city of amderma is not found\n",
      "288 The weather in the city of Licheng is city id 1803791\n",
      "289 The weather in the city of Peniche is city id 2264923\n",
      "290 The weather in the city of Barra do Garças is city id 3470709\n",
      "291 The weather in the city of Santa Cruz de la Sierra is city id 3904906\n",
      "292 The weather in the city of Rio Verde de Mato Grosso is city id 3451051\n",
      "293 The weather in the city of Utete is city id 149070\n",
      "294 The weather in the city of São Mateus is city id 3448519\n",
      "295 The weather in the city of Chibombo is city id 920233\n",
      " Weather for the city of grand river south east is not found\n",
      "296 The weather in the city of Otavi is city id 3353934\n",
      "297 The weather in the city of Independence is city id 4391812\n",
      "298 The weather in the city of Nísia Floresta is city id 3393922\n",
      "299 The weather in the city of Bolivar is city id 4377835\n",
      "300 The weather in the city of Tazovsky is city id 1489853\n",
      "301 The weather in the city of Khandyga is city id 2022773\n",
      "302 The weather in the city of Tignère is city id 2221513\n",
      "303 The weather in the city of Khatanga is city id 2022572\n",
      "304 The weather in the city of Dvinskoy Bereznik is city id 577240\n",
      "305 The weather in the city of Itarema is city id 3393692\n",
      "306 The weather in the city of Racine is city id 5268253\n",
      "307 The weather in the city of Bubaque is city id 2374583\n",
      "308 The weather in the city of Sungai Raya is city id 1625908\n",
      "309 The weather in the city of Acaraú is city id 3408368\n",
      " Weather for the city of macaboboni is not found\n",
      "310 The weather in the city of Lianran is city id 1803886\n",
      "311 The weather in the city of Ilulissat is city id 3423146\n",
      " Weather for the city of kuva is not found\n",
      " Weather for the city of karaul is not found\n",
      "312 The weather in the city of Ouadda is city id 236901\n",
      "313 The weather in the city of Tamasane is city id 933030\n",
      " Weather for the city of chikoy is not found\n",
      "314 The weather in the city of College is city id 5859699\n",
      "315 The weather in the city of Conde is city id 3385077\n",
      "316 The weather in the city of Rawson is city id 3839307\n",
      "317 The weather in the city of Barinas is city id 3648546\n",
      "318 The weather in the city of Svetlaya is city id 2015852\n",
      "319 The weather in the city of Āron is city id 1278365\n",
      "320 The weather in the city of Pangnirtung is city id 6096551\n",
      "321 The weather in the city of Nome is city id 5870133\n",
      "322 The weather in the city of Bairiki Village is city id 7601762\n",
      "323 The weather in the city of Mandera is city id 187896\n",
      "324 The weather in the city of Saint-Joseph is city id 6690296\n",
      "325 The weather in the city of Itapirapuã is city id 3460697\n",
      "326 The weather in the city of Sechura is city id 3691954\n",
      "327 The weather in the city of Yur’yevets is city id 466258\n",
      "328 The weather in the city of Paita is city id 3694112\n",
      "329 The weather in the city of Phalodi is city id 1259813\n",
      "330 The weather in the city of Kailua is city id 5847486\n",
      "331 The weather in the city of Uglekamensk is city id 2014573\n",
      "332 The weather in the city of Polunochnoye is city id 1494482\n",
      "333 The weather in the city of Yanagawa is city id 1848573\n",
      " Weather for the city of meyungs is not found\n",
      "334 The weather in the city of Broome is city id 5110365\n",
      "335 The weather in the city of Dikson is city id 1507390\n",
      "336 The weather in the city of Bollnäs is city id 2720679\n",
      "337 The weather in the city of Kolokani is city id 2454955\n",
      "338 The weather in the city of Hazorasp is city id 1513957\n",
      "339 The weather in the city of Ginda is city id 1253628\n",
      "340 The weather in the city of Fortuna Foothills is city id 5295143\n",
      "341 The weather in the city of Cassilândia is city id 3466750\n",
      "342 The weather in the city of Bud is city id 4255151\n",
      "343 The weather in the city of Abnūb is city id 362973\n",
      "344 The weather in the city of Flagstaff is city id 5294810\n",
      "345 The weather in the city of Along is city id 1278969\n",
      "346 The weather in the city of Mosetse is city id 933277\n",
      "347 The weather in the city of Goderich is city id 5962442\n",
      "348 The weather in the city of Pagudpud is city id 1696482\n",
      "349 The weather in the city of Camabatela is city id 2242885\n",
      "350 The weather in the city of Pokhara is city id 1282898\n",
      "351 The weather in the city of Trairi is city id 3386177\n",
      "352 The weather in the city of Prainha is city id 3391287\n",
      "353 The weather in the city of Jaworzno is city id 3097333\n",
      "354 The weather in the city of Dryden is city id 5942913\n",
      "355 The weather in the city of Porbandar is city id 1259395\n",
      "356 The weather in the city of Novosilikatnyy is city id 1496739\n",
      "357 The weather in the city of Dingcheng is city id 1807553\n",
      "358 The weather in the city of Richards Bay is city id 962367\n",
      "359 The weather in the city of Tocopilla is city id 3869716\n",
      " Weather for the city of kamenskoye is not found\n",
      "360 The weather in the city of General Pico is city id 3855075\n",
      "361 The weather in the city of Mozarlândia is city id 3456642\n",
      "362 The weather in the city of San Cristobal is city id 3628473\n",
      "363 The weather in the city of Kantemirovka is city id 553099\n",
      "364 The weather in the city of Wattegama is city id 1224061\n",
      "365 The weather in the city of Dzerzhinsk is city id 563708\n",
      "366 The weather in the city of São Paulo de Olivença is city id 3662252\n",
      " Weather for the city of juifang is not found\n",
      "367 The weather in the city of Provideniya is city id 4031574\n",
      "368 The weather in the city of Rawlins is city id 5836068\n",
      "369 The weather in the city of Smithers is city id 6149996\n",
      "370 The weather in the city of Faya is city id 110690\n",
      " Weather for the city of taneatua is not found\n",
      "371 The weather in the city of Alekseyevka is city id 582956\n",
      "372 The weather in the city of Estrela is city id 3463762\n",
      "373 The weather in the city of Koulikoro is city id 2454532\n",
      "374 The weather in the city of Carnarvon is city id 2074865\n",
      "375 The weather in the city of Basco is city id 1726449\n",
      "376 The weather in the city of Amapá is city id 3407762\n",
      "377 The weather in the city of Malbork is city id 3092472\n",
      "378 The weather in the city of Neustadt an der Waldnaab is city id 3220856\n",
      "379 The weather in the city of Oudtshoorn is city id 967106\n",
      "380 The weather in the city of Formiga is city id 3463174\n",
      "381 The weather in the city of Virginia Beach is city id 4791259\n",
      "382 The weather in the city of Karratha is city id 6620339\n",
      "383 The weather in the city of Atambua is city id 1651103\n",
      "384 The weather in the city of Samarai is city id 2132606\n",
      "385 The weather in the city of Kumul is city id 1529484\n",
      "386 The weather in the city of Hobyo is city id 57000\n",
      "387 The weather in the city of Aksu is city id 1529660\n",
      "388 The weather in the city of Vila Franca do Campo is city id 3372472\n",
      "389 The weather in the city of El Salvador is city id 3585968\n",
      " Weather for the city of mys shmidta is not found\n",
      "390 The weather in the city of Wanning is city id 1791779\n",
      " Weather for the city of hihifo is not found\n",
      "391 The weather in the city of Coahuayana Viejo is city id 4013679\n"
     ]
    },
    {
     "name": "stdout",
     "output_type": "stream",
     "text": [
      "392 The weather in the city of Beruwala is city id 1249931\n",
      "393 The weather in the city of Puerto Baquerizo Moreno is city id 3652758\n",
      "394 The weather in the city of Guerrero Negro is city id 4021858\n",
      "395 The weather in the city of Karuzi Province is city id 428218\n",
      "396 The weather in the city of Ormara is city id 1168700\n",
      "397 The weather in the city of Tutóia is city id 3385899\n",
      "398 The weather in the city of Muroran is city id 2129101\n",
      "399 The weather in the city of Yar-Sale is city id 1486321\n",
      "400 The weather in the city of Sibolga is city id 1213855\n",
      "401 The weather in the city of Mujiayingzi is city id 2035707\n",
      "402 The weather in the city of Kanigoro is city id 1641497\n",
      " Weather for the city of vitimskiy is not found\n",
      "403 The weather in the city of Sturgis is city id 5011428\n",
      "404 The weather in the city of Paamiut is city id 3421193\n",
      "405 The weather in the city of São João da Barra is city id 3448903\n",
      "406 The weather in the city of Hay River is city id 5972762\n",
      "407 The weather in the city of Los Llanos de Aridane is city id 2514651\n",
      "408 The weather in the city of Cravo Norte is city id 3685702\n",
      "409 The weather in the city of Adré is city id 245669\n",
      "410 The weather in the city of Bonavista is city id 5905393\n",
      "411 The weather in the city of Nueve de Julio is city id 3842881\n",
      "412 The weather in the city of Cardston is city id 5916821\n",
      "413 The weather in the city of Muros is city id 3115824\n",
      "414 The weather in the city of Gambēla is city id 337405\n",
      "415 The weather in the city of Sindor is city id 492860\n",
      "416 The weather in the city of Soyo is city id 2236967\n",
      "417 The weather in the city of Malazgirt is city id 304916\n",
      "418 The weather in the city of Ibiá is city id 3461620\n",
      "419 The weather in the city of Tawang Town is city id 1254832\n",
      "420 The weather in the city of Rome is city id 5134295\n",
      "421 The weather in the city of Umm Kaddadah is city id 364933\n",
      "422 The weather in the city of Hartselle is city id 4066449\n",
      "423 The weather in the city of Tommot is city id 2015179\n",
      "424 The weather in the city of Vitim is city id 2013375\n",
      " Weather for the city of tabiauea is not found\n",
      "425 The weather in the city of Inhapim is city id 3461214\n",
      "426 The weather in the city of Ishigaki is city id 1861416\n",
      "427 The weather in the city of Harper is city id 2276492\n",
      " Weather for the city of rungata is not found\n",
      "428 The weather in the city of Atar is city id 2381334\n",
      "429 The weather in the city of Grindavik is city id 3416888\n",
      "430 The weather in the city of Newbury is city id 2641689\n",
      "431 The weather in the city of Hilton Head is city id 4581833\n",
      "432 The weather in the city of Dhidhdhoo is city id 1337612\n",
      "433 The weather in the city of Boyolangu is city id 1648082\n",
      "434 The weather in the city of Wajima is city id 1848976\n",
      "435 The weather in the city of Sol'-Iletsk is city id 491019\n",
      " Weather for the city of mendahara is not found\n",
      "436 The weather in the city of Kuantan is city id 1735227\n",
      "437 The weather in the city of Qurayyat is city id 108648\n",
      "438 The weather in the city of Olafsvik is city id 3414079\n",
      " Weather for the city of saleaula is not found\n",
      "439 The weather in the city of Vaitape is city id 4033077\n",
      "440 The weather in the city of Cabo San Lucas is city id 3985710\n",
      "441 The weather in the city of Strezhevoy is city id 1490796\n",
      "442 The weather in the city of Armidale is city id 2177671\n",
      "443 The weather in the city of Aranda de Duero is city id 3129877\n",
      "444 The weather in the city of Klyuchevskiy is city id 2021980\n",
      "445 The weather in the city of Humaitá is city id 3664078\n",
      "446 The weather in the city of Pudozh is city id 504269\n",
      "447 The weather in the city of Estância is city id 3463900\n",
      "448 The weather in the city of Krasnosel'kup is city id 1502073\n",
      "449 The weather in the city of Timrå is city id 2669047\n",
      "450 The weather in the city of Port Hardy is city id 6111862\n",
      "451 The weather in the city of Udachny is city id 2014624\n",
      "452 The weather in the city of Portland is city id 5746545\n",
      "453 The weather in the city of Lompoc is city id 5367788\n",
      "454 The weather in the city of Kutum is city id 371745\n",
      "455 The weather in the city of Tambacounda is city id 2244991\n",
      " Weather for the city of bababe is not found\n",
      "456 The weather in the city of Tunceli is city id 298846\n",
      "457 The weather in the city of Belaya Gora is city id 2126785\n",
      "458 The weather in the city of Władysławowo is city id 3081752\n",
      "459 The weather in the city of Kangaatsiaq is city id 3422683\n",
      "460 The weather in the city of Katiuzhanka is city id 706612\n",
      "461 The weather in the city of Hokitika is city id 2206894\n",
      "462 The weather in the city of Bay Roberts is city id 5895424\n",
      "463 The weather in the city of Olinda is city id 3393536\n",
      "464 The weather in the city of Kyshtovka is city id 1501000\n",
      "465 The weather in the city of Necoclí is city id 3673974\n",
      "466 The weather in the city of Porto Nacional is city id 3452711\n",
      "467 The weather in the city of Haines Junction is city id 5969025\n",
      "468 The weather in the city of Khorramshahr is city id 127319\n",
      "469 The weather in the city of Meulaboh is city id 1214488\n",
      "470 The weather in the city of Yenagoa is city id 2318123\n",
      "471 The weather in the city of Youghal is city id 2960869\n",
      "472 The weather in the city of Srednekolymsk is city id 2121025\n",
      "473 The weather in the city of São Miguel do Araguaia is city id 3448455\n",
      "474 The weather in the city of Bonthe is city id 2409914\n",
      "475 The weather in the city of Tual is city id 1623197\n",
      "476 The weather in the city of Kiruna is city id 605155\n",
      "477 The weather in the city of Longyearbyen is city id 2729907\n",
      "478 The weather in the city of Adrar is city id 2381972\n",
      "479 The weather in the city of Poum is city id 2138555\n",
      "480 The weather in the city of Marawi is city id 1701054\n",
      " Weather for the city of mutsamudu is not found\n",
      "481 The weather in the city of Kudahuvadhoo is city id 1337607\n",
      "482 The weather in the city of Bandarbeyla is city id 64814\n",
      "483 The weather in the city of Tabuk is city id 1684803\n",
      "484 The weather in the city of Bow Island is city id 5906757\n",
      "485 The weather in the city of Beira is city id 1052373\n",
      "486 The weather in the city of Mmabatho is city id 975436\n",
      "487 The weather in the city of Belmonte is city id 3470137\n",
      "488 The weather in the city of Kodinsk is city id 1503037\n",
      "489 The weather in the city of Boysun is city id 1217734\n",
      "490 The weather in the city of Arenápolis is city id 3471551\n",
      "491 The weather in the city of Biskamzha is city id 1510030\n",
      "492 The weather in the city of Lodja is city id 211647\n",
      "493 The weather in the city of Sept-Îles is city id 6144312\n",
      "494 The weather in the city of Martapura is city id 1636022\n",
      "495 The weather in the city of Imbituba is city id 3461370\n",
      "496 The weather in the city of Inhuma is city id 3398178\n",
      "497 The weather in the city of Koson is city id 1217007\n",
      "498 The weather in the city of Nizhneangarsk is city id 2019199\n",
      "499 The weather in the city of Honningsvåg is city id 779554\n",
      "500 The weather in the city of Vila do Maio is city id 3374120\n",
      "501 The weather in the city of Bocana de Paiwas is city id 3620661\n",
      "502 The weather in the city of Huilong is city id 1806840\n",
      "503 The weather in the city of Gorontalo is city id 1643837\n",
      "504 The weather in the city of Tura is city id 1254046\n",
      "505 The weather in the city of Uray is city id 1488429\n",
      "506 The weather in the city of Santa Isabel is city id 3450188\n",
      "507 The weather in the city of Bartica is city id 3379507\n",
      " Weather for the city of warqla is not found\n",
      "508 The weather in the city of Ancud is city id 3899695\n",
      "509 The weather in the city of Saint George is city id 5546220\n",
      "510 The weather in the city of Andenes is city id 3163146\n",
      "511 The weather in the city of The Valley is city id 3573374\n",
      "512 The weather in the city of Tomatlán is city id 3981391\n",
      " Weather for the city of skagastrond is not found\n",
      "513 The weather in the city of Oranjemund is city id 3354071\n",
      "514 The weather in the city of Birao is city id 240210\n",
      "515 The weather in the city of Port Hedland is city id 2063042\n",
      "516 The weather in the city of Alofi is city id 4036284\n",
      "517 The weather in the city of Darwen is city id 2651495\n",
      "518 The weather in the city of Xiongzhou is city id 1788402\n",
      "519 The weather in the city of Jinchang is city id 1805733\n",
      "520 The weather in the city of Semypolky is city id 694558\n",
      "521 The weather in the city of Tashla is city id 484232\n",
      "522 The weather in the city of Beidao is city id 1816751\n"
     ]
    },
    {
     "name": "stdout",
     "output_type": "stream",
     "text": [
      "523 The weather in the city of Kuliyapitiya is city id 1238427\n",
      "524 The weather in the city of Sabla is city id 2349431\n",
      "525 The weather in the city of Camacha is city id 2270385\n",
      "526 The weather in the city of Grand Gaube is city id 934479\n",
      "527 The weather in the city of Onverwacht is city id 3383384\n",
      "528 The weather in the city of Yarmouth is city id 4956335\n",
      "529 The weather in the city of Mahina is city id 4034307\n",
      "530 The weather in the city of Abrau-Dyurso is city id 584365\n",
      "531 The weather in the city of Montepuez is city id 1037125\n",
      "532 The weather in the city of Te Anau is city id 2181625\n",
      "533 The weather in the city of Kalmunai is city id 1242110\n",
      "534 The weather in the city of Verkhniy Ufaley is city id 1487394\n",
      "535 The weather in the city of Tubualá is city id 3700393\n",
      "536 The weather in the city of Kruisfontein is city id 986717\n",
      "537 The weather in the city of Masvingo is city id 886763\n",
      "538 The weather in the city of Beringovskiy is city id 2126710\n",
      "539 The weather in the city of Sisophon is city id 1822207\n",
      "540 The weather in the city of Marsh Harbour is city id 3571913\n",
      "541 The weather in the city of High Level is city id 5975004\n",
      "542 The weather in the city of Prince Rupert is city id 6113406\n",
      "543 The weather in the city of Coracora is city id 3942259\n",
      "544 The weather in the city of Ponta Delgada is city id 3372783\n",
      "545 The weather in the city of Valleyview is city id 6173220\n",
      "546 The weather in the city of Kampot is city id 1831112\n",
      "547 The weather in the city of Kumphawapi is city id 1609336\n",
      "548 The weather in the city of San Jerónimo is city id 3929611\n",
      "549 The weather in the city of Banda Aceh is city id 1215502\n",
      "550 The weather in the city of Korla is city id 1529376\n",
      "551 The weather in the city of Amoy is city id 1790645\n",
      "552 The weather in the city of Quelimane is city id 1028434\n",
      "553 The weather in the city of Moorhead is city id 5038108\n",
      "554 The weather in the city of Farmington is city id 5467328\n",
      "555 The weather in the city of Pacific Grove is city id 5380437\n",
      "556 The weather in the city of Yerbogachën is city id 2012956\n",
      "557 The weather in the city of Kenai is city id 5866063\n",
      "558 The weather in the city of Emerald is city id 2167426\n",
      "559 The weather in the city of Gladstone is city id 2165478\n",
      "560 The weather in the city of Ust'-Ishim is city id 1488206\n",
      "561 The weather in the city of Makurdi is city id 2331140\n",
      "562 The weather in the city of Lacombe is city id 6035615\n",
      "563 The weather in the city of Tromsø is city id 6453316\n",
      "564 The weather in the city of Birjand is city id 140463\n",
      "565 The weather in the city of Kalush is city id 707099\n",
      "566 The weather in the city of Prymors'k is city id 696292\n",
      "567 The weather in the city of Gogrial is city id 374739\n"
     ]
    }
   ],
   "source": [
    "weather = []\n",
    "counter = 0\n",
    "for city in cities:\n",
    "    # Build query URL and request your results in Celsius\n",
    "    final_url = f\"{url}appid={api_key}&units={units}&q=\"\n",
    "    \n",
    "    # Get weather data\n",
    "    weather_response = requests.get(final_url+city)\n",
    "    weather_json = weather_response.json()\n",
    "    \n",
    "    try:\n",
    "        current_dict = {\n",
    "                        \"City\": weather_json[\"name\"],\n",
    "                        \"Cloudiness\": weather_json[\"clouds\"][\"all\"],\n",
    "                        \"Country\": weather_json[\"sys\"][\"country\"],\n",
    "                        \"Date\": weather_json[\"dt\"],\n",
    "                        \"Humidity\": weather_json[\"main\"][\"humidity\"],\n",
    "                        \"Lat\": weather_json[\"coord\"][\"lat\"],\n",
    "                        \"Lon\": weather_json[\"coord\"][\"lon\"],\n",
    "                        \"Max Temp\": weather_json[\"main\"][\"temp_max\"],\n",
    "                        \"Wind Speed\": weather_json[\"wind\"][\"speed\"]\n",
    "        }\n",
    "                      \n",
    "        weather.append(current_dict)\n",
    "        counter = counter + 1\n",
    "        print(f\"{counter} The weather in the city of {weather_json['name']} is city id {weather_json['id']}\")\n",
    "    except:\n",
    "       \n",
    "        print(f\" Weather for the city of {city} is not found\")\n",
    "            "
   ]
  },
  {
   "cell_type": "markdown",
   "metadata": {},
   "source": [
    "### Convert Raw Data to DataFrame\n",
    "* Export the city data into a .csv.\n",
    "* Display the DataFrame"
   ]
  },
  {
   "cell_type": "code",
   "execution_count": 7,
   "metadata": {},
   "outputs": [
    {
     "data": {
      "text/html": [
       "<div>\n",
       "<style scoped>\n",
       "    .dataframe tbody tr th:only-of-type {\n",
       "        vertical-align: middle;\n",
       "    }\n",
       "\n",
       "    .dataframe tbody tr th {\n",
       "        vertical-align: top;\n",
       "    }\n",
       "\n",
       "    .dataframe thead th {\n",
       "        text-align: right;\n",
       "    }\n",
       "</style>\n",
       "<table border=\"1\" class=\"dataframe\">\n",
       "  <thead>\n",
       "    <tr style=\"text-align: right;\">\n",
       "      <th></th>\n",
       "      <th>City</th>\n",
       "      <th>Cloudiness</th>\n",
       "      <th>Country</th>\n",
       "      <th>Date</th>\n",
       "      <th>Humidity</th>\n",
       "      <th>Lat</th>\n",
       "      <th>Lon</th>\n",
       "      <th>Max Temp</th>\n",
       "      <th>Wind Speed</th>\n",
       "    </tr>\n",
       "  </thead>\n",
       "  <tbody>\n",
       "    <tr>\n",
       "      <th>562</th>\n",
       "      <td>Tromsø</td>\n",
       "      <td>75</td>\n",
       "      <td>NO</td>\n",
       "      <td>1598848011</td>\n",
       "      <td>75</td>\n",
       "      <td>69.65</td>\n",
       "      <td>18.96</td>\n",
       "      <td>44.60</td>\n",
       "      <td>19.46</td>\n",
       "    </tr>\n",
       "    <tr>\n",
       "      <th>563</th>\n",
       "      <td>Birjand</td>\n",
       "      <td>0</td>\n",
       "      <td>IR</td>\n",
       "      <td>1598848012</td>\n",
       "      <td>32</td>\n",
       "      <td>32.87</td>\n",
       "      <td>59.22</td>\n",
       "      <td>68.00</td>\n",
       "      <td>4.70</td>\n",
       "    </tr>\n",
       "    <tr>\n",
       "      <th>564</th>\n",
       "      <td>Kalush</td>\n",
       "      <td>47</td>\n",
       "      <td>UA</td>\n",
       "      <td>1598848012</td>\n",
       "      <td>93</td>\n",
       "      <td>49.01</td>\n",
       "      <td>24.37</td>\n",
       "      <td>59.00</td>\n",
       "      <td>6.24</td>\n",
       "    </tr>\n",
       "    <tr>\n",
       "      <th>565</th>\n",
       "      <td>Prymors'k</td>\n",
       "      <td>0</td>\n",
       "      <td>UA</td>\n",
       "      <td>1598848012</td>\n",
       "      <td>64</td>\n",
       "      <td>46.73</td>\n",
       "      <td>36.34</td>\n",
       "      <td>71.60</td>\n",
       "      <td>12.84</td>\n",
       "    </tr>\n",
       "    <tr>\n",
       "      <th>566</th>\n",
       "      <td>Gogrial</td>\n",
       "      <td>84</td>\n",
       "      <td>SS</td>\n",
       "      <td>1598848013</td>\n",
       "      <td>93</td>\n",
       "      <td>8.53</td>\n",
       "      <td>28.10</td>\n",
       "      <td>69.87</td>\n",
       "      <td>2.42</td>\n",
       "    </tr>\n",
       "  </tbody>\n",
       "</table>\n",
       "</div>"
      ],
      "text/plain": [
       "          City  Cloudiness Country        Date  Humidity    Lat    Lon  \\\n",
       "562     Tromsø          75      NO  1598848011        75  69.65  18.96   \n",
       "563    Birjand           0      IR  1598848012        32  32.87  59.22   \n",
       "564     Kalush          47      UA  1598848012        93  49.01  24.37   \n",
       "565  Prymors'k           0      UA  1598848012        64  46.73  36.34   \n",
       "566    Gogrial          84      SS  1598848013        93   8.53  28.10   \n",
       "\n",
       "     Max Temp  Wind Speed  \n",
       "562     44.60       19.46  \n",
       "563     68.00        4.70  \n",
       "564     59.00        6.24  \n",
       "565     71.60       12.84  \n",
       "566     69.87        2.42  "
      ]
     },
     "execution_count": 7,
     "metadata": {},
     "output_type": "execute_result"
    }
   ],
   "source": [
    "# Create data frame and print results\n",
    "city_df = pd.DataFrame(weather)\n",
    "city_df.tail()"
   ]
  },
  {
   "cell_type": "code",
   "execution_count": 8,
   "metadata": {},
   "outputs": [],
   "source": [
    "#Export data file\n",
    "city_df.to_csv(\"city_df.csv\")"
   ]
  },
  {
   "cell_type": "markdown",
   "metadata": {},
   "source": [
    "## Inspect the data and remove the cities where the humidity > 100%.\n",
    "----\n",
    "Skip this step if there are no cities that have humidity > 100%. "
   ]
  },
  {
   "cell_type": "code",
   "execution_count": 9,
   "metadata": {},
   "outputs": [
    {
     "data": {
      "text/html": [
       "<div>\n",
       "<style scoped>\n",
       "    .dataframe tbody tr th:only-of-type {\n",
       "        vertical-align: middle;\n",
       "    }\n",
       "\n",
       "    .dataframe tbody tr th {\n",
       "        vertical-align: top;\n",
       "    }\n",
       "\n",
       "    .dataframe thead th {\n",
       "        text-align: right;\n",
       "    }\n",
       "</style>\n",
       "<table border=\"1\" class=\"dataframe\">\n",
       "  <thead>\n",
       "    <tr style=\"text-align: right;\">\n",
       "      <th></th>\n",
       "      <th>Cloudiness</th>\n",
       "      <th>Date</th>\n",
       "      <th>Humidity</th>\n",
       "      <th>Lat</th>\n",
       "      <th>Lon</th>\n",
       "      <th>Max Temp</th>\n",
       "      <th>Wind Speed</th>\n",
       "    </tr>\n",
       "  </thead>\n",
       "  <tbody>\n",
       "    <tr>\n",
       "      <th>count</th>\n",
       "      <td>567.000000</td>\n",
       "      <td>5.670000e+02</td>\n",
       "      <td>567.000000</td>\n",
       "      <td>567.000000</td>\n",
       "      <td>567.000000</td>\n",
       "      <td>567.000000</td>\n",
       "      <td>567.000000</td>\n",
       "    </tr>\n",
       "    <tr>\n",
       "      <th>mean</th>\n",
       "      <td>47.058201</td>\n",
       "      <td>1.598848e+09</td>\n",
       "      <td>71.633157</td>\n",
       "      <td>18.787901</td>\n",
       "      <td>14.640212</td>\n",
       "      <td>67.098148</td>\n",
       "      <td>7.832716</td>\n",
       "    </tr>\n",
       "    <tr>\n",
       "      <th>std</th>\n",
       "      <td>39.217773</td>\n",
       "      <td>8.244603e+01</td>\n",
       "      <td>20.019235</td>\n",
       "      <td>33.220942</td>\n",
       "      <td>89.153223</td>\n",
       "      <td>14.819071</td>\n",
       "      <td>5.099336</td>\n",
       "    </tr>\n",
       "    <tr>\n",
       "      <th>min</th>\n",
       "      <td>0.000000</td>\n",
       "      <td>1.598847e+09</td>\n",
       "      <td>13.000000</td>\n",
       "      <td>-54.800000</td>\n",
       "      <td>-179.170000</td>\n",
       "      <td>28.780000</td>\n",
       "      <td>0.290000</td>\n",
       "    </tr>\n",
       "    <tr>\n",
       "      <th>25%</th>\n",
       "      <td>1.000000</td>\n",
       "      <td>1.598848e+09</td>\n",
       "      <td>60.000000</td>\n",
       "      <td>-8.565000</td>\n",
       "      <td>-59.070000</td>\n",
       "      <td>55.000000</td>\n",
       "      <td>3.880000</td>\n",
       "    </tr>\n",
       "    <tr>\n",
       "      <th>50%</th>\n",
       "      <td>40.000000</td>\n",
       "      <td>1.598848e+09</td>\n",
       "      <td>76.000000</td>\n",
       "      <td>20.520000</td>\n",
       "      <td>19.770000</td>\n",
       "      <td>69.800000</td>\n",
       "      <td>6.930000</td>\n",
       "    </tr>\n",
       "    <tr>\n",
       "      <th>75%</th>\n",
       "      <td>89.000000</td>\n",
       "      <td>1.598848e+09</td>\n",
       "      <td>87.000000</td>\n",
       "      <td>48.845000</td>\n",
       "      <td>87.660000</td>\n",
       "      <td>78.800000</td>\n",
       "      <td>10.630000</td>\n",
       "    </tr>\n",
       "    <tr>\n",
       "      <th>max</th>\n",
       "      <td>100.000000</td>\n",
       "      <td>1.598848e+09</td>\n",
       "      <td>100.000000</td>\n",
       "      <td>78.220000</td>\n",
       "      <td>179.320000</td>\n",
       "      <td>98.600000</td>\n",
       "      <td>30.290000</td>\n",
       "    </tr>\n",
       "  </tbody>\n",
       "</table>\n",
       "</div>"
      ],
      "text/plain": [
       "       Cloudiness          Date    Humidity         Lat         Lon  \\\n",
       "count  567.000000  5.670000e+02  567.000000  567.000000  567.000000   \n",
       "mean    47.058201  1.598848e+09   71.633157   18.787901   14.640212   \n",
       "std     39.217773  8.244603e+01   20.019235   33.220942   89.153223   \n",
       "min      0.000000  1.598847e+09   13.000000  -54.800000 -179.170000   \n",
       "25%      1.000000  1.598848e+09   60.000000   -8.565000  -59.070000   \n",
       "50%     40.000000  1.598848e+09   76.000000   20.520000   19.770000   \n",
       "75%     89.000000  1.598848e+09   87.000000   48.845000   87.660000   \n",
       "max    100.000000  1.598848e+09  100.000000   78.220000  179.320000   \n",
       "\n",
       "         Max Temp  Wind Speed  \n",
       "count  567.000000  567.000000  \n",
       "mean    67.098148    7.832716  \n",
       "std     14.819071    5.099336  \n",
       "min     28.780000    0.290000  \n",
       "25%     55.000000    3.880000  \n",
       "50%     69.800000    6.930000  \n",
       "75%     78.800000   10.630000  \n",
       "max     98.600000   30.290000  "
      ]
     },
     "execution_count": 9,
     "metadata": {},
     "output_type": "execute_result"
    }
   ],
   "source": [
    "city_df.describe()"
   ]
  },
  {
   "cell_type": "code",
   "execution_count": 10,
   "metadata": {},
   "outputs": [
    {
     "data": {
      "text/html": [
       "<div>\n",
       "<style scoped>\n",
       "    .dataframe tbody tr th:only-of-type {\n",
       "        vertical-align: middle;\n",
       "    }\n",
       "\n",
       "    .dataframe tbody tr th {\n",
       "        vertical-align: top;\n",
       "    }\n",
       "\n",
       "    .dataframe thead th {\n",
       "        text-align: right;\n",
       "    }\n",
       "</style>\n",
       "<table border=\"1\" class=\"dataframe\">\n",
       "  <thead>\n",
       "    <tr style=\"text-align: right;\">\n",
       "      <th></th>\n",
       "      <th>City</th>\n",
       "      <th>Cloudiness</th>\n",
       "      <th>Country</th>\n",
       "      <th>Date</th>\n",
       "      <th>Humidity</th>\n",
       "      <th>Lat</th>\n",
       "      <th>Lon</th>\n",
       "      <th>Max Temp</th>\n",
       "      <th>Wind Speed</th>\n",
       "    </tr>\n",
       "  </thead>\n",
       "  <tbody>\n",
       "  </tbody>\n",
       "</table>\n",
       "</div>"
      ],
      "text/plain": [
       "Empty DataFrame\n",
       "Columns: [City, Cloudiness, Country, Date, Humidity, Lat, Lon, Max Temp, Wind Speed]\n",
       "Index: []"
      ]
     },
     "execution_count": 10,
     "metadata": {},
     "output_type": "execute_result"
    }
   ],
   "source": [
    "#  Get the indices of cities that have humidity over 100%.\n",
    "city_humidity = city_df.loc[city_df[\"Humidity\"]>100]\n",
    "city_humidity"
   ]
  },
  {
   "cell_type": "markdown",
   "metadata": {},
   "source": [
    "As displayed by the data above, there are no cities with humidity levels above 100%."
   ]
  },
  {
   "cell_type": "code",
   "execution_count": 11,
   "metadata": {},
   "outputs": [],
   "source": [
    "# Make a new DataFrame equal to the city data to drop all humidity outliers by index.\n",
    "# Passing \"inplace=False\" will make a copy of the city_data DataFrame, which we call \"clean_city_data\".\n"
   ]
  },
  {
   "cell_type": "markdown",
   "metadata": {},
   "source": [
    "## Plotting the Data\n",
    "* Use proper labeling of the plots using plot titles (including date of analysis) and axes labels.\n",
    "* Save the plotted figures as .pngs."
   ]
  },
  {
   "cell_type": "markdown",
   "metadata": {},
   "source": [
    "## Latitude vs. Temperature Plot"
   ]
  },
  {
   "cell_type": "code",
   "execution_count": 14,
   "metadata": {
    "scrolled": true
   },
   "outputs": [
    {
     "data": {
      "text/plain": [
       "Text(0, 0.5, 'Temperature')"
      ]
     },
     "execution_count": 14,
     "metadata": {},
     "output_type": "execute_result"
    },
    {
     "data": {
      "image/png": "[encoded data removed]",
      "text/plain": [
       "<Figure size 432x288 with 1 Axes>"
      ]
     },
     "metadata": {
      "needs_background": "light"
     },
     "output_type": "display_data"
    }
   ],
   "source": [
    "plt.scatter(city_df[\"Lat\"], city_df[\"Max Temp\"], marker=\"o\", facecolors=\"blue\", edgecolors=\"black\", alpha=0.75)\n",
    "\n",
    "#Add labels\n",
    "plt.title(\"Latitude vs. Temperature Plot\")\n",
    "plt.xlabel(\"Latitude\")\n",
    "plt.ylabel(\"Temperature\")"
   ]
  },
  {
   "cell_type": "markdown",
   "metadata": {},
   "source": [
    "###### Cheyenne's Observation: The data displayed in the scatter plot indicates that temperature values are higher the closer a city is located to the equator (0° Latitude). Conversley, lower temperature value plots indicate the location of the city is either far more north (less than -20° degrees Latitude) or far more south (greater than 20° degrees Latitude)"
   ]
  },
  {
   "cell_type": "markdown",
   "metadata": {},
   "source": [
    "## Latitude vs. Humidity Plot"
   ]
  },
  {
   "cell_type": "code",
   "execution_count": 16,
   "metadata": {},
   "outputs": [
    {
     "data": {
      "text/plain": [
       "Text(0, 0.5, 'Humidity')"
      ]
     },
     "execution_count": 16,
     "metadata": {},
     "output_type": "execute_result"
    },
    {
     "data": {
      "image/png": "[encoded data removed]",
      "text/plain": [
       "<Figure size 432x288 with 1 Axes>"
      ]
     },
     "metadata": {
      "needs_background": "light"
     },
     "output_type": "display_data"
    }
   ],
   "source": [
    "plt.scatter(city_df[\"Lat\"], city_df[\"Humidity\"], marker=\"o\", facecolors=\"blue\", edgecolors=\"black\", alpha=0.75)\n",
    "\n",
    "#Add labels\n",
    "plt.title(\"Latitude vs. Humidity Plot\")\n",
    "plt.xlabel(\"Latitude\")\n",
    "plt.ylabel(\"Humidity\")"
   ]
  },
  {
   "cell_type": "markdown",
   "metadata": {},
   "source": [
    "###### Cheyenne's Observation: Interestingly, the data in this scatter plot displays the city locations \"almost\" similar to the world map, but I digress. Statistically speaking, the scatter plot above indicates no relationship, however there is a pattern that's detected. Most of the humidity values indicated in the cities plotted are bound between less than 60° degree latitude and 80° degrees latitude. Additionally, humidity values less than 40% begin to sparse out between -45° degrees latitude and 65° degrees latitude."
   ]
  },
  {
   "cell_type": "markdown",
   "metadata": {},
   "source": [
    "## Latitude vs. Cloudiness Plot"
   ]
  },
  {
   "cell_type": "code",
   "execution_count": 17,
   "metadata": {},
   "outputs": [
    {
     "data": {
      "text/plain": [
       "Text(0, 0.5, 'Cloudiness')"
      ]
     },
     "execution_count": 17,
     "metadata": {},
     "output_type": "execute_result"
    },
    {
     "data": {
      "image/png": "[encoded data removed]",
      "text/plain": [
       "<Figure size 432x288 with 1 Axes>"
      ]
     },
     "metadata": {
      "needs_background": "light"
     },
     "output_type": "display_data"
    }
   ],
   "source": [
    "plt.scatter(city_df[\"Lat\"], city_df[\"Cloudiness\"], marker=\"o\", facecolors=\"blue\", edgecolors=\"black\", alpha=0.75)\n",
    "\n",
    "#Add labels\n",
    "plt.title(\"Latitude vs. Cloudiness Plot\")\n",
    "plt.xlabel(\"Latitude\")\n",
    "plt.ylabel(\"Cloudiness\")"
   ]
  },
  {
   "cell_type": "markdown",
   "metadata": {},
   "source": [
    "###### Cheyenne's Observation: The scatter plot above, Latitude vs. Cloudiness, does not indicate a specific relationship. At each documented latitude in the scatter plot, most of the cities indicated a level of cloudiness, ranging from 0% to 100%. However, it is interesting to note that at 0%, 20%, 40%, 75% and 100% Cloudiness, there are numerous cities that are plotted in a linear distribution along those levels. I'm very curious as to why the data is displayed this way."
   ]
  },
  {
   "cell_type": "markdown",
   "metadata": {},
   "source": [
    "## Latitude vs. Wind Speed Plot"
   ]
  },
  {
   "cell_type": "code",
   "execution_count": 18,
   "metadata": {},
   "outputs": [
    {
     "data": {
      "text/plain": [
       "Text(0, 0.5, 'Wind Speed')"
      ]
     },
     "execution_count": 18,
     "metadata": {},
     "output_type": "execute_result"
    },
    {
     "data": {
      "image/png": "[encoded data removed]",
      "text/plain": [
       "<Figure size 432x288 with 1 Axes>"
      ]
     },
     "metadata": {
      "needs_background": "light"
     },
     "output_type": "display_data"
    }
   ],
   "source": [
    "plt.scatter(city_df[\"Lat\"], city_df[\"Cloudiness\"], marker=\"o\", facecolors=\"blue\", edgecolors=\"black\", alpha=0.75)\n",
    "\n",
    "#Add labels\n",
    "plt.title(\"Latitude vs. Wind Speed Plot\")\n",
    "plt.xlabel(\"Latitude\")\n",
    "plt.ylabel(\"Wind Speed\")"
   ]
  },
  {
   "cell_type": "markdown",
   "metadata": {},
   "source": [
    "###### Cheyenne's Observation: Similar to the previous scatter plot, Latitude vs. Wind Speed also displays data in a similar fashion. No specific relationship is observed, however, each documented latitude in the scatter plot has wind speeds ranging from 0 to 100 mph. Also at wind speed levels of 0, 20, 40, 75, and 100 mph, there are numerous cities that are plotted in a linear distribution. \\"
   ]
  },
  {
   "cell_type": "markdown",
   "metadata": {},
   "source": [
    "## Linear Regression"
   ]
  },
  {
   "cell_type": "code",
   "execution_count": 17,
   "metadata": {},
   "outputs": [],
   "source": [
    "# Create a dataframe for each hemisphere.\n",
    "#Use GroupBy\n",
    "\n",
    "# northern_df = \n",
    "# southern_df = \n",
    "\n",
    "# Create a group based on the values in the 'Mouse ID' column\n",
    "# mouse_id_group = combined_data_df.groupby('Mouse ID')\n",
    "\n",
    "# Add the linear regression equation and line to plot\n",
    "# x_values = housing_data['RM']\n",
    "# y_values = housing_data['MEDV']\n",
    "# (slope, intercept, rvalue, pvalue, stderr) = linregress(x_values, y_values)\n",
    "# regress_values = x_values * slope + intercept\n",
    "# line_eq = \"y = \" + str(round(slope,2)) + \"x + \" + str(round(intercept,2))\n",
    "# plt.scatter(x_values,y_values)\n",
    "# plt.plot(x_values,regress_values,\"r-\")\n",
    "# plt.annotate(line_eq,(6,10),fontsize=15,color=\"red\")\n",
    "# plt.xlabel('Rooms in House')\n",
    "# plt.ylabel('Median House Prices ($1000)')\n",
    "# plt.show()"
   ]
  },
  {
   "cell_type": "markdown",
   "metadata": {},
   "source": [
    "####  Northern Hemisphere - Max Temp vs. Latitude Linear Regression"
   ]
  },
  {
   "cell_type": "code",
   "execution_count": null,
   "metadata": {},
   "outputs": [],
   "source": []
  },
  {
   "cell_type": "markdown",
   "metadata": {},
   "source": [
    "####  Southern Hemisphere - Max Temp vs. Latitude Linear Regression"
   ]
  },
  {
   "cell_type": "code",
   "execution_count": null,
   "metadata": {},
   "outputs": [],
   "source": []
  },
  {
   "cell_type": "markdown",
   "metadata": {},
   "source": [
    "####  Northern Hemisphere - Humidity (%) vs. Latitude Linear Regression"
   ]
  },
  {
   "cell_type": "code",
   "execution_count": null,
   "metadata": {},
   "outputs": [],
   "source": []
  },
  {
   "cell_type": "markdown",
   "metadata": {},
   "source": [
    "####  Southern Hemisphere - Humidity (%) vs. Latitude Linear Regression"
   ]
  },
  {
   "cell_type": "code",
   "execution_count": null,
   "metadata": {},
   "outputs": [],
   "source": []
  },
  {
   "cell_type": "markdown",
   "metadata": {},
   "source": [
    "####  Northern Hemisphere - Cloudiness (%) vs. Latitude Linear Regression"
   ]
  },
  {
   "cell_type": "code",
   "execution_count": null,
   "metadata": {},
   "outputs": [],
   "source": []
  },
  {
   "cell_type": "markdown",
   "metadata": {},
   "source": [
    "####  Southern Hemisphere - Cloudiness (%) vs. Latitude Linear Regression"
   ]
  },
  {
   "cell_type": "code",
   "execution_count": null,
   "metadata": {},
   "outputs": [],
   "source": []
  },
  {
   "cell_type": "markdown",
   "metadata": {},
   "source": [
    "####  Northern Hemisphere - Wind Speed (mph) vs. Latitude Linear Regression"
   ]
  },
  {
   "cell_type": "code",
   "execution_count": null,
   "metadata": {},
   "outputs": [],
   "source": []
  },
  {
   "cell_type": "markdown",
   "metadata": {},
   "source": [
    "####  Southern Hemisphere - Wind Speed (mph) vs. Latitude Linear Regression"
   ]
  },
  {
   "cell_type": "code",
   "execution_count": null,
   "metadata": {},
   "outputs": [],
   "source": []
  },
  {
   "cell_type": "code",
   "execution_count": null,
   "metadata": {},
   "outputs": [],
   "source": []
  }
 ],
 "metadata": {
  "anaconda-cloud": {},
  "kernel_info": {
   "name": "python3"
  },
  "kernelspec": {
   "display_name": "Python 3",
   "language": "python",
   "name": "python3"
  },
  "language_info": {
   "codemirror_mode": {
    "name": "ipython",
    "version": 3
   },
   "file_extension": ".py",
   "mimetype": "text/x-python",
   "name": "python",
   "nbconvert_exporter": "python",
   "pygments_lexer": "ipython3",
   "version": "3.8.3"
  },
  "latex_envs": {
   "LaTeX_envs_menu_present": true,
   "autoclose": false,
   "autocomplete": true,
   "bibliofile": "biblio.bib",
   "cite_by": "apalike",
   "current_citInitial": 1,
   "eqLabelWithNumbers": true,
   "eqNumInitial": 1,
   "hotkeys": {
    "equation": "Ctrl-E",
    "itemize": "Ctrl-I"
   },
   "labels_anchors": false,
   "latex_user_defs": false,
   "report_style_numbering": false,
   "user_envs_cfg": false
  },
  "nteract": {
   "version": "0.12.3"
  }
 },
 "nbformat": 4,
 "nbformat_minor": 2
}
